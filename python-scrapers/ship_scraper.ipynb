{
 "cells": [
  {
   "cell_type": "code",
   "execution_count": null,
   "metadata": {},
   "outputs": [],
   "source": [
    "import requests\n",
    "import urllib3.request\n",
    "from bs4 import BeautifulSoup\n",
    "import json"
   ]
  },
  {
   "cell_type": "code",
   "execution_count": null,
   "metadata": {},
   "outputs": [],
   "source": [
    "url = \"https://store.veracity.com/9fe6456a-bdb7-473e-b57e-ba8f6240b77d\"\n",
    "response = requests.get(url)"
   ]
  },
  {
   "cell_type": "code",
   "execution_count": null,
   "metadata": {
    "scrolled": true
   },
   "outputs": [],
   "source": [
    "soup = BeautifulSoup(response.text, \"html.parser\")\n",
    "\n",
    "ship_list = soup.find(\"body\").find(\"ul\").findAll(\"li\")\n",
    "ship_names = []\n",
    "\n",
    "for ship in ship_list: \n",
    "    ship_names.append(ship.attrs[\"title\"])\n"
   ]
  },
  {
   "cell_type": "code",
   "execution_count": null,
   "metadata": {},
   "outputs": [],
   "source": [
    "soup = BeautifulSoup(response.text, \"html.parser\")\n",
    "\n",
    "ship_list = soup.find(\"body\").find(\"ul\").findAll(\"a\")\n",
    "links = [ship[\"href\"] for ship in ship_list if not ship[\"href\"].startswith(\"tel\")]\n"
   ]
  },
  {
   "cell_type": "code",
   "execution_count": null,
   "metadata": {
    "scrolled": true
   },
   "outputs": [],
   "source": [
    "responses = []\n",
    "for link in links:\n",
    "    responses.append(requests.get(link))\n",
    "    print(link + \"requested\")"
   ]
  },
  {
   "cell_type": "code",
   "execution_count": null,
   "metadata": {},
   "outputs": [],
   "source": [
    "print(len(responses), len(ship_names))"
   ]
  },
  {
   "cell_type": "code",
   "execution_count": null,
   "metadata": {},
   "outputs": [],
   "source": [
    "ship_info = {}\n",
    "\n",
    "for i in range(len(responses)):\n",
    "    \n",
    "    soup1 = BeautifulSoup(responses[i].text, \"html.parser\")\n",
    "    soup2 = BeautifulSoup(responses[i].text, \"html.parser\")\n",
    "    ship_name = soup2.find(\"h1\").text.rstrip()\n",
    "    data = soup2.find(\"table\")\n",
    "    if data:\n",
    "        data = data.findAll(\"td\")\n",
    "        info = {}\n",
    "        for i in range(0, len(data) - 2, 2):\n",
    "            info[data[i].text.replace(\":\", \"\") if not data[i].text == \"Maritime Mobile Service Identity:\" else \"MMSI\"] = data[i + 1].text\n",
    "        ship_info[ship_name.replace(\" \", \"_\")] = info\n"
   ]
  },
  {
   "cell_type": "code",
   "execution_count": null,
   "metadata": {},
   "outputs": [],
   "source": [
    "len(ship_info)"
   ]
  },
  {
   "cell_type": "code",
   "execution_count": null,
   "metadata": {},
   "outputs": [],
   "source": [
    "with open(\"../data_files/ships3.json\", \"w\") as file:\n",
    "    file.write(json.dumps(ship_info))"
   ]
  },
  {
   "cell_type": "code",
   "execution_count": null,
   "metadata": {},
   "outputs": [],
   "source": [
    "soup = BeautifulSoup(responses[67].text, \"html.parser\")\n",
    "data = soup.find(\"table\").findAll(\"td\")\n",
    "print(len(data))"
   ]
  },
  {
   "cell_type": "code",
   "execution_count": null,
   "metadata": {},
   "outputs": [],
   "source": [
    "info = {}\n",
    "for i in range(0, len(data) - 2, 2):\n",
    "    print(data[i].text, data[i+1].text)"
   ]
  },
  {
   "cell_type": "code",
   "execution_count": null,
   "metadata": {},
   "outputs": [],
   "source": [
    "with open(\"ships3.json\", \"w\", encoding=\"utf-8\") as file:\n",
    "    file.write(json.dumps(ship_info))"
   ]
  },
  {
   "cell_type": "code",
   "execution_count": null,
   "metadata": {},
   "outputs": [],
   "source": []
  }
 ],
 "metadata": {
  "kernelspec": {
   "display_name": "Python 3",
   "language": "python",
   "name": "python3"
  },
  "language_info": {
   "codemirror_mode": {
    "name": "ipython",
    "version": 3
   },
   "file_extension": ".py",
   "mimetype": "text/x-python",
   "name": "python",
   "nbconvert_exporter": "python",
   "pygments_lexer": "ipython3",
   "version": "3.7.3"
  }
 },
 "nbformat": 4,
 "nbformat_minor": 2
}
