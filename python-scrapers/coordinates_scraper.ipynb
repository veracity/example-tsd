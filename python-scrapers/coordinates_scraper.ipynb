{
 "cells": [
  {
   "cell_type": "code",
   "execution_count": null,
   "metadata": {},
   "outputs": [],
   "source": [
    "import requests\n",
    "import json\n",
    "import time\n",
    "import csv\n",
    "base_url = \"https://maps.googleapis.com/maps/api/place/findplacefromtext/json?\""
   ]
  },
  {
   "cell_type": "code",
   "execution_count": null,
   "metadata": {},
   "outputs": [],
   "source": [
    "locations = [location.rstrip() for location in open(\"locations.txt\", \"r\", encoding=\"utf-8\").readlines()]"
   ]
  },
  {
   "cell_type": "code",
   "execution_count": null,
   "metadata": {},
   "outputs": [],
   "source": [
    "response = requests.get(f\"{base_url}input={locations[0]}&inputtype=textquery&fields=geometry&key=\")"
   ]
  },
  {
   "cell_type": "code",
   "execution_count": null,
   "metadata": {},
   "outputs": [],
   "source": [
    "with open(\"location_coordinates.csv\", \"w\", encoding=\"utf-8\") as file:\n",
    "    file.write(\"location\\tlat\\tlng\\n\")\n",
    "    for location in locations:\n",
    "        response = requests.get(f\"{base_url}input={location}&inputtype=textquery&fields=geometry&key=\")\n",
    "        time.sleep(0.05)\n",
    "        data = json.loads(response.text)\n",
    "        if len(data[\"candidates\"]) > 0:\n",
    "            lat = data[\"candidates\"][0][\"geometry\"][\"location\"][\"lat\"]\n",
    "            lng = data[\"candidates\"][0][\"geometry\"][\"location\"][\"lng\"]\n",
    "            file.write(f\"{location}\\t{lat}\\t{lng}\\n\")"
   ]
  },
  {
   "cell_type": "code",
   "execution_count": null,
   "metadata": {},
   "outputs": [],
   "source": [
    "locations = [line.split(\"\\t\") for line in open(\"location_coordinates.csv\", \"r\", encoding=\"utf-8\").readlines()[1:]]"
   ]
  },
  {
   "cell_type": "code",
   "execution_count": null,
   "metadata": {},
   "outputs": [],
   "source": [
    "json_locations = {}\n",
    "\n",
    "for location in locations:\n",
    "    json_locations[location[0]] = {\n",
    "        \"lat\": int(location[1].rstrip()),\n",
    "        \"lng\": int(location[2].rstrip())\n",
    "    }\n",
    "    \n",
    "with open(\"location_coordinates.json\", \"w\", encoding=\"utf-8\") as file:\n",
    "    file.write(json.dumps(json_locations))"
   ]
  }
 ],
 "metadata": {
  "kernelspec": {
   "display_name": "Python 3",
   "language": "python",
   "name": "python3"
  },
  "language_info": {
   "codemirror_mode": {
    "name": "ipython",
    "version": 3
   },
   "file_extension": ".py",
   "mimetype": "text/x-python",
   "name": "python",
   "nbconvert_exporter": "python",
   "pygments_lexer": "ipython3",
   "version": "3.7.3"
  }
 },
 "nbformat": 4,
 "nbformat_minor": 2
}
